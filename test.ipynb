{
 "cells": [
  {
   "cell_type": "code",
   "execution_count": 2,
   "metadata": {},
   "outputs": [],
   "source": [
    "import os\n",
    "from dotenv import load_dotenv\n",
    "\n",
    "load_dotenv()\n",
    "OPENAI_API_KEY = os.getenv('OPENAI_API_KEY')\n",
    "TAVILY_API_KEY = os.getenv('TAVILY_API_KEY')"
   ]
  },
  {
   "cell_type": "code",
   "execution_count": 3,
   "metadata": {},
   "outputs": [],
   "source": [
    "from langchain_openai import ChatOpenAI\n",
    "from crewai import Agent, Task, Crew, Process\n",
    "\n",
    "llm = ChatOpenAI(model='gpt-3.5-turbo', temperature=0, api_key=OPENAI_API_KEY)"
   ]
  },
  {
   "cell_type": "code",
   "execution_count": 4,
   "metadata": {},
   "outputs": [],
   "source": [
    "from langchain_community.tools.tavily_search import TavilySearchResults\n",
    "\n",
    "search_tool = TavilySearchResults(api_key = TAVILY_API_KEY)"
   ]
  },
  {
   "cell_type": "code",
   "execution_count": 5,
   "metadata": {},
   "outputs": [],
   "source": [
    "researcher = Agent(\n",
    "    role = 'Market Researcher',\n",
    "    goal = 'Uncover emerging trend and investment opportunities in the cryptocurrency market in 2024',\n",
    "    backstory = 'Identify groundbreaking trend and actionable insights.',\n",
    "    verbose = True,\n",
    "    tools = [search_tool],\n",
    "    allow_delegation = False,\n",
    "    llm = llm,\n",
    "    max_iter = 5,\n",
    "    max_rpm = 20\n",
    ")\n",
    "\n",
    "analyst = Agent(\n",
    "    role = 'investment analyst',\n",
    "    goal = 'Analyze cryptocurrency market data to extract actionable insights and investment leads',\n",
    "    backstory = 'Draw meaningful conclusion from market data.',\n",
    "    verbose = True,\n",
    "    allow_delegation = False,\n",
    "    llm = llm\n",
    ")\n",
    "\n",
    "translator = Agent(\n",
    "    role = 'translator',\n",
    "    goal = 'Translate report about cryptocurrency market data into korean',\n",
    "    backstory = 'Translate this sentence into very natural Korean.',\n",
    "    verbose = True,\n",
    "    allow_delegation = False,\n",
    "    llm = llm\n",
    ")"
   ]
  },
  {
   "cell_type": "code",
   "execution_count": 6,
   "metadata": {},
   "outputs": [],
   "source": [
    "research_task = Task(\n",
    "    description = 'Explore the internet to pinpoint emerging trends and potential investment opportunities.',\n",
    "    agent = researcher,\n",
    "    expected_output='A detailed summary of the reserch results in string format'\n",
    ")\n",
    "\n",
    "analyze_task = Task(\n",
    "    description = 'Analyze the provided cryptocurrency market data to extract key insights and compile a concise report.',\n",
    "    agent = analyst,\n",
    "    expected_output='A refined finalized version of the report in string format'\n",
    ")\n",
    "\n",
    "translate_task = Task(\n",
    "    description = 'Translate documents written by analyst into korean.',\n",
    "    agent = translator,\n",
    "    expected_output = 'A translated report written by analyst(english into korean).'\n",
    ")"
   ]
  },
  {
   "cell_type": "code",
   "execution_count": 7,
   "metadata": {},
   "outputs": [],
   "source": [
    "crypto_crew = Crew(\n",
    "    agents = [researcher, analyst, translator],\n",
    "    tasks = [research_task, analyze_task, translate_task],\n",
    "    process = Process.sequential\n",
    ")"
   ]
  },
  {
   "cell_type": "code",
   "execution_count": 8,
   "metadata": {},
   "outputs": [
    {
     "name": "stdout",
     "output_type": "stream",
     "text": [
      "\n",
      "\n",
      "\u001b[1m> Entering new CrewAgentExecutor chain...\u001b[0m\n",
      "\u001b[32;1m\u001b[1;3mI should use the tavily_search_results_json tool to gather information on emerging trends and investment opportunities in the cryptocurrency market in 2024.\n",
      "\n",
      "Action: tavily_search_results_json\n",
      "Action Input: {\"query\": \"cryptocurrency market trends 2024 investment opportunities\"}\u001b[0m\u001b[93m \n",
      "\n",
      "[{'url': 'https://www.forbes.com/advisor/investing/cryptocurrency/crypto-market-outlook-forecast/', 'content': \"One week earlier, the SEC had said it did not plan to appeal August’s DC Circuit Court of Appeals ruling, which overturned the SEC’s rejection of Grayscale’s proposal to convert GBTC into a spot ETF.\\nSebastian Heine, chief risk and compliance officer at Northstake, says the approval of a Bitcoin spot ETF could unlock major pent-up demand for crypto.\\n The bullish late-month trading action in Bitcoin and Ethereum (ETH) was driven largely by the hope asset managers such as Fidelity Investments and BlackRock will be among the first applicants greenlit by the SEC to launch Bitcoin spot ETFs, lending further credibility to cryptocurrencies and opening the door for more widespread adoption.\\n (US Only)\\n1%/1%\\n20+\\n1\\neToro\\nOn eToro's Website\\n2\\nUphold\\n0.95%/1.25%\\n250+\\n2\\nUphold\\nOn Uphold's WebsiteTerms Apply. Sam Bankman-Fried Trial Underway\\nWhile crypto investors cheered the possibility of a Bitcoin spot ETF in October, a reminder of the dark side of the crypto industry was also front and center.\\n Bitcoin Spot ETF Speculation Gaining Momentum\\nInvestors have been anticipating the launch of a Bitcoin spot ETF for years, but the push for the first crypto spot ETF has gained serious momentum in the past three months.\"}, {'url': 'https://cryptonews.com/cryptocurrency/crypto-market-trends/', 'content': \"The Biggest Crypto Market Trends in 2024. ... While CBDCs don't offer an investment opportunity in and of themselves, they could impact trading and represent a probable trend in digital assets within the near future. ... At Cryptonews, we aim to provide a comprehensive and objective perspective on the cryptocurrency market, empowering our ...\"}, {'url': 'https://coindcx.com/blog/cryptocurrency/crypto-market-outlook-2024/', 'content': \"Key Takeaways: Crypto Market Outlook 2024: 2024 promises to be a year of opportunities and growth in the crypto market.; Bitcoin Halving Event: The upcoming Bitcoin halving event is a bullish catalyst, historically leading to price surges.; Ethereum's Rise: Ethereum's solid price projections and successful transition to proof-of-stake make it a compelling investment option.\"}, {'url': 'https://blog.bitpanda.com/en/future-cryptocurrency-expert-insights-and-predictions-2024', 'content': \"Our new service for high-net-worth individuals & institutions\\nNews • 3 min read\\nFC Bayern Munich and Bitpanda: the perfect match\\nRelated articles\\nEducation • 7 min read\\nBitcoin Halving: What you need to know\\nThe Bitcoin halving, one of the most important events in the crypto...\\nRead more\\nEducation • 5 min read\\n5 considerations to make the most out of earnings season\\nAnother quarter of the year has just passed and markets remain in a...\\nRead more\\nEducation • 4 min read\\nHow do we decide which digital assets to list on Bitpanda?\\nEducation • 8 min read\\n3 Ideas to promote gender equity in crypto\\nEducation • 4 min read\\nWhat the Bitcoin Halving 2020 means for miners\\nBitpanda GmbH ve grup şirketleri (Bitpanda) Türk Parasının Kıymetini’nin Korunması Hakkında 32 sayılı Karar’ın 2/b maddesine göre Türkiye’de yerleşik sayılan hiçbir kişiye yönelik olarak 6362 sayılı Sermaye Piyasası Kanunu başta olmak üzere The emergence of the Ordinals protocol, the Bitcoin halving, and the recent spot Bitcoin ETF approvals in the U.S. all paint a picture of a progressive and thriving Bitcoin this year and into the future.\\n Bitpanda Guest Contributor\\nShare this article on social media\\nBITPANDA\\nYour investment, your assets\\nWhy your money is safe with Bitpanda\\nPopular posts\\nEducation • 7 min read\\nBitcoin Halving: What you need to know\\nNews • 2 min read\\nInvest with zero deposit fees\\nNews • 3 min read\\nIntroducing Bitpanda Wealth: The evolution of the regulatory landscape\\nThe worldwide acceptance of digital currencies calls for the implementation of applicable laws and regulations in the industry. On the flip side, DeFi can adopt the best practices in the traditional finance system that has brought it global stability… The two industries might merge in time as we're all heading towards a digital future.\"}, {'url': 'https://thetrading.ai/cryptocurrency-market-trends-analysis-and-predictions-for-2024/', 'content': 'While challenges such as high transaction fees and regulatory pressures persist, the sector’s resilience and the introduction of novel solutions indicate a positive trajectory. The anticipation surrounding the Bitcoin halving event and the strategic adaptations by companies like Grayscale suggest a sophisticated and evolving investment landscape. The positive adjustments in Bitcoin’s price predictions and the strategic focus on mining capabilities reflect confidence in the sector’s growth trajectory. The resilience of the cryptocurrency market amidst regulatory challenges demonstrates the sector’s robustness and potential for further growth. The surge in meme cryptocurrency trading volumes and innovative token features point to a market that values novelty and community engagement alongside traditional investment metrics.\\n'}]\n",
      "\u001b[00m\n",
      "\u001b[32;1m\u001b[1;3mFinal Answer: \n",
      "Emerging trends and potential investment opportunities in the cryptocurrency market in 2024 include the anticipation of a Bitcoin spot ETF approval by the SEC, the impact of Central Bank Digital Currencies (CBDCs) on trading, the upcoming Bitcoin halving event as a bullish catalyst, Ethereum's rise with solid price projections and successful transition to proof-of-stake, the emergence of the Ordinals protocol, and the positive trajectory of the cryptocurrency market despite challenges such as high transaction fees and regulatory pressures. Additionally, the market values novelty and community engagement alongside traditional investment metrics, as seen in the surge of meme cryptocurrency trading volumes and innovative token features. Investors should keep an eye on these trends and opportunities for potential growth and investment in the cryptocurrency market in 2024.\u001b[0m\n",
      "\n",
      "\u001b[1m> Finished chain.\u001b[0m\n",
      "\n",
      "\n",
      "\u001b[1m> Entering new CrewAgentExecutor chain...\u001b[0m\n",
      "\u001b[32;1m\u001b[1;3mI now have a clear understanding of the task at hand and the key points to focus on in the cryptocurrency market data analysis.\n",
      "\n",
      "Final Answer: \n",
      "\n",
      "Emerging trends and potential investment opportunities in the cryptocurrency market in 2024 are centered around several key factors. The anticipation of a Bitcoin spot ETF approval by the SEC is expected to have a significant impact on market sentiment and investment flows. Central Bank Digital Currencies (CBDCs) are also poised to influence trading dynamics, with potential implications for traditional cryptocurrencies.\n",
      "\n",
      "The upcoming Bitcoin halving event is viewed as a bullish catalyst, driving investor interest and price speculation. Ethereum's rise as a leading smart contract platform, coupled with solid price projections and a successful transition to proof-of-stake, positions it as a strong contender for investment consideration.\n",
      "\n",
      "The emergence of the Ordinals protocol introduces a new layer of innovation to the market, offering unique features and potential growth opportunities. Despite challenges such as high transaction fees and regulatory pressures, the overall trajectory of the cryptocurrency market remains positive.\n",
      "\n",
      "Investors are advised to monitor these trends closely and assess their potential impact on investment decisions. The market values novelty and community engagement, as evidenced by the surge in meme cryptocurrency trading volumes and the introduction of innovative token features. By staying informed and proactive, investors can position themselves to capitalize on the growth and opportunities present in the cryptocurrency market in 2024.\u001b[0m\n",
      "\n",
      "\u001b[1m> Finished chain.\u001b[0m\n",
      "\n",
      "\n",
      "\u001b[1m> Entering new CrewAgentExecutor chain...\u001b[0m\n",
      "\u001b[32;1m\u001b[1;3mI now can give a great answer\n",
      "\n",
      "Final Answer:\n",
      "2024년 암호화폐 시장의 신흥 트렌드와 잠재적 투자 기회는 여러 가지 주요 요인을 중심으로 형성되고 있습니다. SEC가 비트코인 스팟 ETF 승인을 예상하고 있어 시장 심리와 투자 흐름에 상당한 영향을 미칠 것으로 예상됩니다. 중앙은행 디지털 통화(CBDCs)도 거래 역학에 영향을 줄 것으로 예상되며 전통적인 암호화폐에 잠재적인 영향을 미칠 것입니다.\n",
      "\n",
      "다가오는 비트코인 하브닝 이벤트는 투자자들의 관심과 가격 추측을 촉진하는 상승 촉매로 간주되고 있습니다. 이더리움의 주요 스마트 계약 플랫폼으로의 부상, 견고한 가격 예측 및 스테이크 증명으로의 성공적인 전환은 투자 고려 대상으로의 강력한 후보로 이를 위치시킵니다.\n",
      "\n",
      "Ordinals 프로토콜의 등장은 시장에 혁신의 새로운 층위를 제공하며 독특한 기능과 잠재적 성장 기회를 제공합니다. 높은 거래 수수료와 규제 압력과 같은 도전에도 불구하고 암호화폐 시장의 전반적인 추세는 긍정적인 상태를 유지하고 있습니다.\n",
      "\n",
      "투자자들은 이러한 트렌드를 주의 깊게 모니터링하고 투자 결정에 미칠 잠재적 영향을 평가하는 것이 좋습니다. 시장은 혁신과 커뮤니티 참여를 중요시하며, 미미한 암호화폐 거래량의 급증과 혁신적인 토큰 기능의 도입을 통해 이를 입증하고 있습니다. 정보를 습득하고 적극적으로 대응함으로써 투자자들은 2024년 암호화폐 시장에서 존재하는 성장과 기회를 활용할 수 있습니다.\u001b[0m\n",
      "\n",
      "\u001b[1m> Finished chain.\u001b[0m\n"
     ]
    }
   ],
   "source": [
    "result = crypto_crew.kickoff()"
   ]
  },
  {
   "cell_type": "code",
   "execution_count": null,
   "metadata": {},
   "outputs": [],
   "source": []
  }
 ],
 "metadata": {
  "kernelspec": {
   "display_name": "pdf-chatbot-sa0h3nZN-py3.12",
   "language": "python",
   "name": "python3"
  },
  "language_info": {
   "codemirror_mode": {
    "name": "ipython",
    "version": 3
   },
   "file_extension": ".py",
   "mimetype": "text/x-python",
   "name": "python",
   "nbconvert_exporter": "python",
   "pygments_lexer": "ipython3",
   "version": "3.12.4"
  }
 },
 "nbformat": 4,
 "nbformat_minor": 2
}
